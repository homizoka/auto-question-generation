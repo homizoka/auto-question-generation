{
 "cells": [
  {
   "cell_type": "code",
   "execution_count": 15,
   "metadata": {},
   "outputs": [
    {
     "name": "stderr",
     "output_type": "stream",
     "text": [
      "[nltk_data] Downloading package punkt to\n",
      "[nltk_data]     /Users/xavierpuspus/nltk_data...\n",
      "[nltk_data]   Package punkt is already up-to-date!\n"
     ]
    }
   ],
   "source": [
    "import streamlit as st\n",
    "from gensim.summarization import summarize, keywords\n",
    "from sumy.parsers.html import HtmlParser\n",
    "from sumy.nlp.tokenizers import Tokenizer\n",
    "from sumy.summarizers.reduction import ReductionSummarizer\n",
    "from sumy.nlp.stemmers import Stemmer\n",
    "from sumy.utils import get_stop_words\n",
    "import nltk; nltk.download('punkt')\n",
    "from text2text.text_generator import TextGenerator"
   ]
  },
  {
   "cell_type": "code",
   "execution_count": 16,
   "metadata": {},
   "outputs": [
    {
     "name": "stdout",
     "output_type": "stream",
     "text": [
      "INFO: Successfully saved requirements file in ./requirements.txt\n"
     ]
    }
   ],
   "source": [
    "!pipreqs ."
   ]
  },
  {
   "cell_type": "code",
   "execution_count": 1,
   "metadata": {},
   "outputs": [
    {
     "name": "stdout",
     "output_type": "stream",
     "text": [
      "Collecting text2text\n",
      "  Downloading text2text-0.0.9-py3-none-any.whl (46 kB)\n",
      "\u001b[K     |████████████████████████████████| 46 kB 327 kB/s eta 0:00:011\n",
      "\u001b[?25hCollecting torch\n",
      "  Downloading torch-1.6.0-cp38-none-macosx_10_9_x86_64.whl (97.5 MB)\n",
      "\u001b[K     |████████████████████████████████| 97.5 MB 9.0 MB/s eta 0:00:011   |██▋                             | 7.9 MB 3.6 MB/s eta 0:00:2564.7 MB 11.5 MB/s eta 0:00:03     |████████████████████████▎       | 74.0 MB 11.3 MB/s eta 0:00:03     |███████████████████████████████▌| 95.8 MB 16.7 MB/s eta 0:00:01\n",
      "\u001b[?25hRequirement already satisfied: numpy in /opt/anaconda3/lib/python3.8/site-packages (from text2text) (1.18.5)\n",
      "Requirement already satisfied: tqdm in /opt/anaconda3/lib/python3.8/site-packages (from text2text) (4.47.0)\n",
      "Requirement already satisfied: future in /opt/anaconda3/lib/python3.8/site-packages (from torch->text2text) (0.18.2)\n",
      "Installing collected packages: torch, text2text\n",
      "Successfully installed text2text-0.0.9 torch-1.6.0\n",
      "Note: you may need to restart the kernel to use updated packages.\n"
     ]
    }
   ],
   "source": [
    "pip install text2text"
   ]
  },
  {
   "cell_type": "code",
   "execution_count": 12,
   "metadata": {},
   "outputs": [],
   "source": [
    "import text2text"
   ]
  },
  {
   "cell_type": "code",
   "execution_count": 2,
   "metadata": {},
   "outputs": [
    {
     "name": "stdout",
     "output_type": "stream",
     "text": [
      "Thomas A. Anderson is a man living two lives. By day he is an average computer programmer and by night a hacker known as Neo. Neo has always questioned his reality, but the truth is far beyond his imagination. Neo finds himself targeted by the police when he is contacted by Morpheus, a legendary computer hacker branded a terrorist by the government. Morpheus awakens Neo to the real world, a ravaged wasteland where most of humanity have been captured by a race of machines that live off of the humans' body heat and electrochemical energy and who imprison their minds within an artificial reality known as the Matrix. As a rebel against the machines, Neo must return to the Matrix and confront the agents: super-powerful computer programs devoted to snuffing out Neo and the entire human rebellion. \n"
     ]
    }
   ],
   "source": [
    "text = (\n",
    "    \"Thomas A. Anderson is a man living two lives. By day he is an \"\n",
    "    \"average computer programmer and by night a hacker known as \"\n",
    "    \"Neo. Neo has always questioned his reality, but the truth is \"\n",
    "    \"far beyond his imagination. Neo finds himself targeted by the \"\n",
    "    \"police when he is contacted by Morpheus, a legendary computer \"\n",
    "    \"hacker branded a terrorist by the government. Morpheus awakens \"\n",
    "    \"Neo to the real world, a ravaged wasteland where most of \"\n",
    "    \"humanity have been captured by a race of machines that live \"\n",
    "    \"off of the humans' body heat and electrochemical energy and \"\n",
    "    \"who imprison their minds within an artificial reality known as \"\n",
    "    \"the Matrix. As a rebel against the machines, Neo must return to \"\n",
    "    \"the Matrix and confront the agents: super-powerful computer \"\n",
    "    \"programs devoted to snuffing out Neo and the entire human \"\n",
    "    \"rebellion. \"\n",
    ")\n",
    "print(text)"
   ]
  },
  {
   "cell_type": "code",
   "execution_count": 3,
   "metadata": {},
   "outputs": [
    {
     "name": "stdout",
     "output_type": "stream",
     "text": [
      "Better speed can be achieved with apex installed from https://www.github.com/artitw/apex.\n"
     ]
    },
    {
     "name": "stderr",
     "output_type": "stream",
     "text": [
      "100%|██████████| 213450/213450 [00:01<00:00, 172857.08B/s]\n"
     ]
    },
    {
     "name": "stdout",
     "output_type": "stream",
     "text": [
      "***** Recover model: %s ***** qg_model.bin\n"
     ]
    },
    {
     "name": "stderr",
     "output_type": "stream",
     "text": [
      "100%|██████████| 1242874899/1242874899 [04:59<00:00, 4155152.88B/s]\n"
     ]
    },
    {
     "name": "stdout",
     "output_type": "stream",
     "text": [
      "CPU times: user 1min 1s, sys: 20.6 s, total: 1min 22s\n",
      "Wall time: 7min 38s\n"
     ]
    }
   ],
   "source": [
    "%%time\n",
    "from text2text.text_generator import TextGenerator\n",
    "qg = TextGenerator(output_type=\"question\")"
   ]
  },
  {
   "cell_type": "code",
   "execution_count": 10,
   "metadata": {},
   "outputs": [
    {
     "name": "stderr",
     "output_type": "stream",
     "text": [
      "100%|██████████| 1/1 [00:48<00:00, 48.75s/it]"
     ]
    },
    {
     "name": "stdout",
     "output_type": "stream",
     "text": [
      "CPU times: user 1min 26s, sys: 2.95 s, total: 1min 29s\n",
      "Wall time: 48.8 s\n"
     ]
    },
    {
     "name": "stderr",
     "output_type": "stream",
     "text": [
      "\n"
     ]
    },
    {
     "data": {
      "text/plain": [
       "[('What is the generalized Gibbs ensemble called?', 'GGE'),\n",
       " ('What parts of the BCS ground state are entanglement between?',\n",
       "  'components'),\n",
       " ('What is the name of the Neumann entanglement entropy?', 'von'),\n",
       " ('What is the correlation between the spin components of the BCS ground state?',\n",
       "  'entanglement'),\n",
       " ('What is the generalized Gibbs ensemble called?', 'GGE')]"
      ]
     },
     "execution_count": 10,
     "metadata": {},
     "output_type": "execute_result"
    }
   ],
   "source": [
    "%%time\n",
    "prediction = qg.predict([text]*5)\n",
    "prediction"
   ]
  },
  {
   "cell_type": "code",
   "execution_count": 11,
   "metadata": {},
   "outputs": [
    {
     "data": {
      "text/plain": [
       "['What is the generalized Gibbs ensemble called?',\n",
       " 'What parts of the BCS ground state are entanglement between?',\n",
       " 'What is the name of the Neumann entanglement entropy?',\n",
       " 'What is the correlation between the spin components of the BCS ground state?',\n",
       " 'What is the generalized Gibbs ensemble called?']"
      ]
     },
     "execution_count": 11,
     "metadata": {},
     "output_type": "execute_result"
    }
   ],
   "source": [
    "[i[0] for i in prediction]"
   ]
  },
  {
   "cell_type": "code",
   "execution_count": null,
   "metadata": {},
   "outputs": [],
   "source": []
  },
  {
   "cell_type": "code",
   "execution_count": 5,
   "metadata": {},
   "outputs": [],
   "source": [
    "text = \"\"\"\n",
    "We study entanglement between the spin components of the BCS ground state by calculating the full entanglement spectrum and the corresponding von Neumann entanglement entropy. The entanglement spectrum is effectively modeled by a generalized Gibbs ensemble (GGE) of noninteracting electrons, which may be approximated by a canonical ensemble at the BCS critical temperature. We further demonstrate that the entanglement entropy is jointly proportional to the pairing energy and to the number of electrons about the Fermi surface (an area law). Furthermore, the entanglement entropy is also proportional to the number fluctuations of either spin component in the BCS state.\n",
    "\"\"\""
   ]
  },
  {
   "cell_type": "code",
   "execution_count": 6,
   "metadata": {},
   "outputs": [
    {
     "name": "stderr",
     "output_type": "stream",
     "text": [
      "100%|██████████| 1/1 [00:45<00:00, 45.37s/it]"
     ]
    },
    {
     "name": "stdout",
     "output_type": "stream",
     "text": [
      "CPU times: user 1min 26s, sys: 2.46 s, total: 1min 29s\n",
      "Wall time: 45.4 s\n"
     ]
    },
    {
     "name": "stderr",
     "output_type": "stream",
     "text": [
      "\n"
     ]
    },
    {
     "data": {
      "text/plain": [
       "[('What entanglement between the spin components of the BCS ground state is studied by calculating the full entanglement spectrum and the von Neumann entanglement entropy?',\n",
       "  'state'),\n",
       " ('What component of the BCS ground state is entanglement between?', 'spin'),\n",
       " ('How is the canonical ensemble at the BCS critical temperature approximated?',\n",
       "  'approximated'),\n",
       " ('How is the entanglement entropy proportional to the number fluctuation of either spin component in the BCS state?',\n",
       "  'proportional'),\n",
       " ('The entanglement entropy is jointly proportional to the energy and the number of electrons about the Fermi surface?',\n",
       "  'pairing')]"
      ]
     },
     "execution_count": 6,
     "metadata": {},
     "output_type": "execute_result"
    }
   ],
   "source": [
    "%%time\n",
    "qg.predict([text]*5)"
   ]
  }
 ],
 "metadata": {
  "kernelspec": {
   "display_name": "Python 3",
   "language": "python",
   "name": "python3"
  },
  "language_info": {
   "codemirror_mode": {
    "name": "ipython",
    "version": 3
   },
   "file_extension": ".py",
   "mimetype": "text/x-python",
   "name": "python",
   "nbconvert_exporter": "python",
   "pygments_lexer": "ipython3",
   "version": "3.8.3"
  }
 },
 "nbformat": 4,
 "nbformat_minor": 4
}
